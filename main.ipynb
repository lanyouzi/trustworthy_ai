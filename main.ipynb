{
 "cells": [
  {
   "cell_type": "code",
   "execution_count": 11,
   "metadata": {},
   "outputs": [],
   "source": [
    "%matplotlib inline\n",
    "from tqdm import tqdm\n",
    "import matplotlib.pyplot as plt\n",
    "import os\n",
    "os.environ['CUDA_VISIBLE_DEVICES'] = '0'\n",
    "import torch\n",
    "import torch.nn as nn\n",
    "import torch.optim as optim\n",
    "import torch.backends.cudnn as cudnn\n",
    "import torch.nn.functional as F\n",
    "import torchvision\n",
    "import torchvision.transforms as transforms\n",
    "import numpy as np"
   ]
  },
  {
   "cell_type": "code",
   "execution_count": 12,
   "metadata": {},
   "outputs": [],
   "source": [
    "basedir = os.getcwd()\n",
    "ds_basedir = os.path.abspath(\"/mnt/traffic/maruokai/datasets\")\n",
    "if not os.path.isdir('results'):\n",
    "    os.mkdir('results')\n",
    "out_path = os.path.join(basedir, 'results')"
   ]
  },
  {
   "cell_type": "code",
   "execution_count": 13,
   "metadata": {},
   "outputs": [],
   "source": [
    "myseed = 2021  # set a random seed for reproducibility\n",
    "torch.backends.cudnn.deterministic = True\n",
    "torch.backends.cudnn.benchmark = False  # \n",
    "np.random.seed(myseed)\n",
    "torch.manual_seed(myseed)\n",
    "if torch.cuda.is_available():\n",
    "    torch.cuda.manual_seed(myseed)\n",
    "    torch.cuda.manual_seed_all(myseed)"
   ]
  },
  {
   "cell_type": "code",
   "execution_count": 14,
   "metadata": {},
   "outputs": [
    {
     "name": "stdout",
     "output_type": "stream",
     "text": [
      "Train dataset size = 40000, batch num = 313\n",
      "Val dataset size = 10000, batch num = 79\n",
      "Test dataset size = 10000, batch num = 79\n"
     ]
    }
   ],
   "source": [
    "transform_train = transforms.Compose([\n",
    "    # transforms.RandomResizedCrop(32, scale=(0.64, 1.0),\n",
    "    #                              ratio=(1.0, 1.0)),\n",
    "    transforms.RandomCrop(32, padding=4),\n",
    "    transforms.RandomHorizontalFlip(),  # 依照概率p=0.5水平翻转\n",
    "    transforms.RandomGrayscale(),       # 依照概率p=0.5转化为灰度图\n",
    "    transforms.ToTensor(),\n",
    "    transforms.Normalize([0.4914, 0.4822, 0.4465],\n",
    "                         [0.2023, 0.1994, 0.2010])\n",
    "    ])\n",
    "\n",
    "transform_test = torchvision.transforms.Compose([\n",
    "    torchvision.transforms.ToTensor(),\n",
    "    torchvision.transforms.Normalize([0.4914, 0.4822, 0.4465],\n",
    "                                     [0.2023, 0.1994, 0.2010])])\n",
    "\n",
    "batch_size = 128\n",
    "ratio = 0.2\n",
    "\n",
    "# 读取数据集\n",
    "dataset = torchvision.datasets.CIFAR10(\n",
    "    root=ds_basedir, train=True, download=False, transform=transform_train)\n",
    "test_dataset = torchvision.datasets.CIFAR10(\n",
    "    root=ds_basedir, train=False, download=False, transform=transform_test)\n",
    "\n",
    "val_num = int(len(dataset)*ratio)\n",
    "train_num = int(len(dataset)-val_num)\n",
    "train_dataset, val_dataset = torch.utils.data.random_split(dataset, [train_num, val_num])\n",
    "\n",
    "train_loader = torch.utils.data.DataLoader(\n",
    "    train_dataset, batch_size=batch_size, shuffle=True, num_workers=4)\n",
    "val_loader = torch.utils.data.DataLoader(\n",
    "    val_dataset, batch_size=batch_size, shuffle=True, num_workers=4)\n",
    "test_loader = torch.utils.data.DataLoader(\n",
    "    test_dataset, batch_size=batch_size, shuffle=False, num_workers=4)\n",
    "\n",
    "\n",
    "print(f\"Train dataset size = {len(train_dataset)}, batch num = {len(train_loader)}\")\n",
    "print(f\"Val dataset size = {len(val_dataset)}, batch num = {len(val_loader)}\")\n",
    "print(f\"Test dataset size = {len(test_dataset)}, batch num = {len(test_loader)}\")\n",
    "\n",
    "classes = ('plane', 'car', 'bird', 'cat', 'deer',\n",
    "           'dog', 'frog', 'horse', 'ship', 'truck')"
   ]
  },
  {
   "cell_type": "code",
   "execution_count": 15,
   "metadata": {},
   "outputs": [
    {
     "name": "stderr",
     "output_type": "stream",
     "text": [
      "Clipping input data to the valid range for imshow with RGB data ([0..1] for floats or [0..255] for integers).\n",
      "Clipping input data to the valid range for imshow with RGB data ([0..1] for floats or [0..255] for integers).\n",
      "Clipping input data to the valid range for imshow with RGB data ([0..1] for floats or [0..255] for integers).\n"
     ]
    },
    {
     "name": "stdout",
     "output_type": "stream",
     "text": [
      "128 128\n",
      "(32, 32, 3)\n",
      "(32, 32, 3)\n",
      "(32, 32, 3)\n"
     ]
    },
    {
     "data": {
      "image/png": "[encoded data removed]",
      "text/plain": [
       "<Figure size 720x2160 with 3 Axes>"
      ]
     },
     "metadata": {
      "needs_background": "light"
     },
     "output_type": "display_data"
    }
   ],
   "source": [
    "# 显示图片\n",
    "def display(display_num=3, scale=10):\n",
    "    cnt = 0\n",
    "    fig,axes = plt.subplots(1, display_num, figsize=(1*scale, display_num*scale))\n",
    "    axes = axes.flatten()\n",
    "    images, labels = next(iter(train_loader))\n",
    "    print(len(images), len(labels))\n",
    "    for _, (image, label) in enumerate(zip(images, labels)):\n",
    "        if cnt >= display_num:\n",
    "            break\n",
    "        #print(image.shape)\n",
    "        image = image.numpy() # FloatTensor转为ndarray\n",
    "        image = np.transpose(image, (1,2,0)) # 把channel放到最后，(h, w, channel)\n",
    "        print(image.shape)\n",
    "        ax = axes[cnt]\n",
    "        ax.imshow(image)\n",
    "        ax.axes.get_xaxis().set_visible(False)\n",
    "        ax.axes.get_yaxis().set_visible(False)\n",
    "        ax.set_title(classes[label])\n",
    "        cnt += 1\n",
    "    fig.show()\n",
    "display()"
   ]
  },
  {
   "cell_type": "code",
   "execution_count": 16,
   "metadata": {},
   "outputs": [],
   "source": [
    "'''ResNet in PyTorch.\n",
    "'''\n",
    "import torch\n",
    "import torch.nn as nn\n",
    "import torch.nn.functional as F\n",
    "\n",
    "\n",
    "class BasicBlock(nn.Module):\n",
    "    expansion = 1\n",
    "\n",
    "    def __init__(self, in_planes, planes, stride=1):\n",
    "        super(BasicBlock, self).__init__()\n",
    "        self.conv1 = nn.Conv2d(\n",
    "            in_planes, planes, kernel_size=3, stride=stride, padding=1, bias=False)\n",
    "        self.bn1 = nn.BatchNorm2d(planes)\n",
    "        self.conv2 = nn.Conv2d(planes, planes, kernel_size=3,\n",
    "                               stride=1, padding=1, bias=False)\n",
    "        self.bn2 = nn.BatchNorm2d(planes)\n",
    "\n",
    "        self.shortcut = nn.Sequential()\n",
    "        if stride != 1 or in_planes != self.expansion*planes:\n",
    "            self.shortcut = nn.Sequential(\n",
    "                nn.Conv2d(in_planes, self.expansion*planes,\n",
    "                          kernel_size=1, stride=stride, bias=False),\n",
    "                nn.BatchNorm2d(self.expansion*planes)\n",
    "            )\n",
    "\n",
    "    def forward(self, x):\n",
    "        out = F.relu(self.bn1(self.conv1(x)))\n",
    "        out = self.bn2(self.conv2(out))\n",
    "        out += self.shortcut(x)\n",
    "        out = F.relu(out)\n",
    "        return out\n",
    "\n",
    "\n",
    "class Bottleneck(nn.Module):\n",
    "    expansion = 4\n",
    "\n",
    "    def __init__(self, in_planes, planes, stride=1):\n",
    "        super(Bottleneck, self).__init__()\n",
    "        self.conv1 = nn.Conv2d(in_planes, planes, kernel_size=1, bias=False)\n",
    "        self.bn1 = nn.BatchNorm2d(planes)\n",
    "        self.conv2 = nn.Conv2d(planes, planes, kernel_size=3,\n",
    "                               stride=stride, padding=1, bias=False)\n",
    "        self.bn2 = nn.BatchNorm2d(planes)\n",
    "        self.conv3 = nn.Conv2d(planes, self.expansion *\n",
    "                               planes, kernel_size=1, bias=False)\n",
    "        self.bn3 = nn.BatchNorm2d(self.expansion*planes)\n",
    "\n",
    "        self.shortcut = nn.Sequential()\n",
    "        if stride != 1 or in_planes != self.expansion*planes:\n",
    "            self.shortcut = nn.Sequential(\n",
    "                nn.Conv2d(in_planes, self.expansion*planes,\n",
    "                          kernel_size=1, stride=stride, bias=False),\n",
    "                nn.BatchNorm2d(self.expansion*planes)\n",
    "            )\n",
    "\n",
    "    def forward(self, x):\n",
    "        out = F.relu(self.bn1(self.conv1(x)))\n",
    "        out = F.relu(self.bn2(self.conv2(out)))\n",
    "        out = self.bn3(self.conv3(out))\n",
    "        out += self.shortcut(x)\n",
    "        out = F.relu(out)\n",
    "        return out\n",
    "\n",
    "\n",
    "class ResNet(nn.Module):\n",
    "    def __init__(self, block, num_blocks, num_classes=10):\n",
    "        super(ResNet, self).__init__()\n",
    "        self.in_planes = 64\n",
    "\n",
    "        self.conv1 = nn.Conv2d(3, 64, kernel_size=3,\n",
    "                               stride=1, padding=1, bias=False)\n",
    "        self.bn1 = nn.BatchNorm2d(64)\n",
    "        self.layer1 = self._make_layer(block, 64, num_blocks[0], stride=1)\n",
    "        self.layer2 = self._make_layer(block, 128, num_blocks[1], stride=2)\n",
    "        self.layer3 = self._make_layer(block, 256, num_blocks[2], stride=2)\n",
    "        self.layer4 = self._make_layer(block, 512, num_blocks[3], stride=2)\n",
    "        self.linear = nn.Linear(512*block.expansion, num_classes)\n",
    "\n",
    "    def _make_layer(self, block, planes, num_blocks, stride):\n",
    "        strides = [stride] + [1]*(num_blocks-1)\n",
    "        layers = []\n",
    "        for stride in strides:\n",
    "            layers.append(block(self.in_planes, planes, stride))\n",
    "            self.in_planes = planes * block.expansion\n",
    "        return nn.Sequential(*layers)\n",
    "\n",
    "    def forward(self, x):\n",
    "        out = F.relu(self.bn1(self.conv1(x)))\n",
    "        out = self.layer1(out)\n",
    "        out = self.layer2(out)\n",
    "        out = self.layer3(out)\n",
    "        out = self.layer4(out)\n",
    "        out = F.avg_pool2d(out, 4)\n",
    "        out = out.view(out.size(0), -1)\n",
    "        out = self.linear(out)\n",
    "        return out\n",
    "\n",
    "\n",
    "def ResNet18():\n",
    "    return ResNet(BasicBlock, [2, 2, 2, 2])\n",
    "\n",
    "\n",
    "def ResNet34():\n",
    "    return ResNet(BasicBlock, [3, 4, 6, 3])\n",
    "\n",
    "\n",
    "def ResNet50():\n",
    "    return ResNet(Bottleneck, [3, 4, 6, 3])\n",
    "\n",
    "\n",
    "def ResNet101():\n",
    "    return ResNet(Bottleneck, [3, 4, 23, 3])\n",
    "\n",
    "\n",
    "def ResNet152():\n",
    "    return ResNet(Bottleneck, [3, 8, 36, 3])\n",
    "\n",
    "\n",
    "def test():\n",
    "    net = ResNet18()\n",
    "    y = net(torch.randn(1, 3, 32, 32))\n",
    "    print(y.size())"
   ]
  },
  {
   "cell_type": "code",
   "execution_count": 17,
   "metadata": {},
   "outputs": [],
   "source": [
    "def do_epoch(model, dataloader, criterion, optim=None):\n",
    "    total_loss = 0\n",
    "    total_correct = 0\n",
    "    total_num = 0\n",
    "    for x, y_true in tqdm(dataloader, leave=False):\n",
    "        x, y_true = x.to(device), y_true.to(device)\n",
    "        y_pred = model(x)\n",
    "        loss = criterion(y_pred, y_true)\n",
    "\n",
    "        if optim is not None:\n",
    "            optim.zero_grad()\n",
    "            loss.backward()\n",
    "            optim.step()\n",
    "\n",
    "        total_loss += loss.item()\n",
    "        total_correct += (y_pred.argmax(dim=-1) == y_true).sum().item()\n",
    "        total_num+=y_pred.size(0)\n",
    "    mean_loss = 1.*total_loss / len(dataloader)\n",
    "    mean_accuracy = 1.*total_correct / total_num\n",
    "\n",
    "    return mean_loss, mean_accuracy"
   ]
  },
  {
   "cell_type": "code",
   "execution_count": 18,
   "metadata": {},
   "outputs": [],
   "source": [
    "def train(num_epoch, model, criterion, optimizer, return_log = True):\n",
    "    if return_log:\n",
    "        train_loss_history, val_loss_history, train_acc_history, val_acc_history = [], [], [], []\n",
    "    best_acc = 0\n",
    "    best_epoch = 0\n",
    "    for epoch in range(1, num_epoch+1):\n",
    "        model.train()\n",
    "        train_loss, train_acc = do_epoch(model, train_loader, criterion, optim=optimizer)\n",
    "\n",
    "        \n",
    "        model.eval()\n",
    "        val_loss, val_acc = do_epoch(model, val_loader, criterion, optim=None)\n",
    "        if return_log:\n",
    "            train_loss_history.append(train_loss)\n",
    "            train_acc_history.append(train_acc)\n",
    "            val_loss_history.append(val_loss)\n",
    "            val_acc_history.append(val_acc)\n",
    "    \n",
    "        if (epoch%10==0):\n",
    "            tqdm.write(f'EPOCH {epoch:03d}: train_loss={train_loss:.4f}, train_accuracy={train_acc:.4f} 'f'val_loss={val_loss:.4f}, val_accuracy={val_acc:.4f}')\n",
    "        \n",
    "        if val_acc > best_acc:\n",
    "            best_acc = val_acc\n",
    "            best_epoch = epoch\n",
    "            state = {\n",
    "                'model': model.state_dict(),\n",
    "                'acc': best_acc,\n",
    "                'epoch': best_epoch,\n",
    "            }\n",
    "            if not os.path.isdir('checkpoint'):\n",
    "                os.mkdir('checkpoint')\n",
    "            torch.save(state, './checkpoint/ckpt.pth')\n",
    "    tqdm.write(f'best accuracy: {best_acc:.4f}, epoch: {best_epoch:03d}')\n",
    "    if return_log:\n",
    "        return train_loss_history, train_acc_history, val_loss_history, val_acc_history\n",
    "    \n"
   ]
  },
  {
   "cell_type": "code",
   "execution_count": 19,
   "metadata": {},
   "outputs": [],
   "source": [
    "def test(model, dataloader, criterion):\n",
    "    model.eval()\n",
    "    test_loss = 0\n",
    "    test_correct = 0\n",
    "    total_num = 0\n",
    "    for inputs, labels in tqdm(dataloader, leave=False):\n",
    "        inputs, labels = inputs.to(device), labels.to(device)\n",
    "        with torch.no_grad():\n",
    "            outputs = model(inputs)\n",
    "        loss = criterion(outputs, labels)\n",
    "        test_loss+=loss.item()\n",
    "        test_correct+=(outputs.argmax(dim=-1) == labels).sum().item()\n",
    "        total_num +=outputs.size(0)\n",
    "    loss = 1.*test_loss/len(test_loader)\n",
    "    acc = 1.*test_correct/total_num\n",
    "\n",
    "    print(f\"loss = {loss:.5f}, acc = {acc:.5f}\")\n",
    "\n"
   ]
  },
  {
   "cell_type": "code",
   "execution_count": 20,
   "metadata": {},
   "outputs": [
    {
     "name": "stdout",
     "output_type": "stream",
     "text": [
      "cuda\n"
     ]
    },
    {
     "name": "stderr",
     "output_type": "stream",
     "text": []
    },
    {
     "name": "stdout",
     "output_type": "stream",
     "text": [
      "EPOCH 010: train_loss=0.3887, train_accuracy=0.8668 val_loss=0.4715, val_accuracy=0.8423\n"
     ]
    },
    {
     "name": "stderr",
     "output_type": "stream",
     "text": []
    },
    {
     "name": "stdout",
     "output_type": "stream",
     "text": [
      "EPOCH 020: train_loss=0.2179, train_accuracy=0.9259 val_loss=0.3631, val_accuracy=0.8827\n"
     ]
    },
    {
     "name": "stderr",
     "output_type": "stream",
     "text": []
    },
    {
     "name": "stdout",
     "output_type": "stream",
     "text": [
      "EPOCH 030: train_loss=0.1502, train_accuracy=0.9480 val_loss=0.3850, val_accuracy=0.8804\n"
     ]
    },
    {
     "name": "stderr",
     "output_type": "stream",
     "text": []
    },
    {
     "name": "stdout",
     "output_type": "stream",
     "text": [
      "EPOCH 040: train_loss=0.1063, train_accuracy=0.9628 val_loss=0.3961, val_accuracy=0.8861\n"
     ]
    },
    {
     "name": "stderr",
     "output_type": "stream",
     "text": []
    },
    {
     "name": "stdout",
     "output_type": "stream",
     "text": [
      "EPOCH 050: train_loss=0.0861, train_accuracy=0.9702 val_loss=0.3522, val_accuracy=0.9008\n"
     ]
    },
    {
     "name": "stderr",
     "output_type": "stream",
     "text": []
    },
    {
     "name": "stdout",
     "output_type": "stream",
     "text": [
      "EPOCH 060: train_loss=0.0738, train_accuracy=0.9744 val_loss=0.3545, val_accuracy=0.9038\n"
     ]
    },
    {
     "name": "stderr",
     "output_type": "stream",
     "text": []
    },
    {
     "name": "stdout",
     "output_type": "stream",
     "text": [
      "EPOCH 070: train_loss=0.0632, train_accuracy=0.9782 val_loss=0.3634, val_accuracy=0.8996\n"
     ]
    },
    {
     "name": "stderr",
     "output_type": "stream",
     "text": []
    },
    {
     "name": "stdout",
     "output_type": "stream",
     "text": [
      "EPOCH 080: train_loss=0.0609, train_accuracy=0.9797 val_loss=0.3931, val_accuracy=0.8960\n"
     ]
    },
    {
     "name": "stderr",
     "output_type": "stream",
     "text": []
    },
    {
     "name": "stdout",
     "output_type": "stream",
     "text": [
      "EPOCH 090: train_loss=0.0551, train_accuracy=0.9819 val_loss=0.3815, val_accuracy=0.8981\n"
     ]
    },
    {
     "name": "stderr",
     "output_type": "stream",
     "text": [
      "                                               "
     ]
    },
    {
     "name": "stdout",
     "output_type": "stream",
     "text": [
      "EPOCH 100: train_loss=0.0566, train_accuracy=0.9807 val_loss=0.3848, val_accuracy=0.9013\n",
      "best accuracy: 0.9113, epoch: 095\n"
     ]
    },
    {
     "name": "stderr",
     "output_type": "stream",
     "text": []
    }
   ],
   "source": [
    "\n",
    "device = 'cuda' if torch.cuda.is_available() else 'cpu'\n",
    "print(device)\n",
    "\n",
    "model = ResNet34()\n",
    "model = model.to(device)\n",
    "num_epoch = 100\n",
    "lr = 1e-2\n",
    "best_acc = 0\n",
    "best_epoch = 0\n",
    "\n",
    "criterion = nn.CrossEntropyLoss()\n",
    "optimizer = optim.SGD(model.parameters(), lr=lr, momentum=0.9, weight_decay=5e-4)\n",
    "if device=='cuda':\n",
    "    model = torch.nn.DataParallel(model)\n",
    "    cudnn.benchmark = True\n",
    "train_loss_history, train_acc_history, val_loss_history, val_acc_history = train(num_epoch, model, criterion, optimizer, True)\n"
   ]
  },
  {
   "cell_type": "code",
   "execution_count": 21,
   "metadata": {},
   "outputs": [],
   "source": [
    "np.save(os.path.join(out_path, 'train_acc_history_lr_'+str(lr)+'.npy'), train_acc_history)\n",
    "np.save(os.path.join(out_path, 'train_loss_history_lr_'+str(lr)+'.npy'), train_loss_history)\n",
    "np.save(os.path.join(out_path, 'val_acc_history_lr_'+str(lr)+'.npy'), val_acc_history)\n",
    "np.save(os.path.join(out_path, 'val_loss_history_lr_'+str(lr)+'.npy'), val_loss_history)"
   ]
  },
  {
   "cell_type": "code",
   "execution_count": 23,
   "metadata": {},
   "outputs": [
    {
     "data": {
      "image/png": "[encoded data removed]",
      "text/plain": [
       "<Figure size 432x288 with 1 Axes>"
      ]
     },
     "metadata": {
      "needs_background": "light"
     },
     "output_type": "display_data"
    },
    {
     "data": {
      "image/png": "[encoded data removed]",
      "text/plain": [
       "<Figure size 432x288 with 1 Axes>"
      ]
     },
     "metadata": {
      "needs_background": "light"
     },
     "output_type": "display_data"
    }
   ],
   "source": [
    "plt.figure()\n",
    "plt.plot(range(len(train_loss_history)), train_loss_history, label='train_loss')\n",
    "plt.plot(range(len(val_loss_history)), val_loss_history, label='val_loss')\n",
    "plt.ylabel('loss')\n",
    "plt.xlabel('epoch')\n",
    "plt.legend()\n",
    "plt.savefig(os.path.join(out_path, 'loss.png'))\n",
    "\n",
    "plt.figure()\n",
    "plt.plot(range(len(train_acc_history)), train_acc_history, label='train_acc')\n",
    "plt.plot(range(len(val_acc_history)), val_acc_history, label='val_acc')\n",
    "\n",
    "plt.ylabel('acc')\n",
    "plt.xlabel('epoch')\n",
    "plt.legend()\n",
    "plt.savefig(os.path.join(out_path, 'acc.png'))\n",
    "\n",
    "np.save(os.path.join(out_path, 'train_loss_history.npy'), train_loss_history)\n",
    "np.save(os.path.join(out_path, 'train_acc_history.npy'), train_acc_history)\n",
    "np.save(os.path.join(out_path, 'val_loss_history.npy'), val_loss_history)\n",
    "np.save(os.path.join(out_path, 'val_acc_history.npy'), val_acc_history)"
   ]
  },
  {
   "cell_type": "code",
   "execution_count": 24,
   "metadata": {},
   "outputs": [
    {
     "name": "stderr",
     "output_type": "stream",
     "text": [
      "                                               "
     ]
    },
    {
     "name": "stdout",
     "output_type": "stream",
     "text": [
      "loss = 0.34433, acc = 0.91230\n"
     ]
    },
    {
     "name": "stderr",
     "output_type": "stream",
     "text": []
    }
   ],
   "source": [
    "if os.path.isdir('checkpoint'):\n",
    "    checkpoint = torch.load('./checkpoint/ckpt.pth')\n",
    "    model.load_state_dict(checkpoint['model'], False)\n",
    "    best_acc = checkpoint['acc']\n",
    "    best_epoch = checkpoint['epoch']\n",
    "test(model, test_loader, criterion)"
   ]
  }
 ],
 "metadata": {
  "interpreter": {
   "hash": "55ebc2881b0f1a7add0c937c3848b9f232b1275ae7375be794dc72dbb57dd42b"
  },
  "kernelspec": {
   "display_name": "Python 3.8.12 64-bit ('ml': conda)",
   "name": "python3"
  },
  "language_info": {
   "codemirror_mode": {
    "name": "ipython",
    "version": 3
   },
   "file_extension": ".py",
   "mimetype": "text/x-python",
   "name": "python",
   "nbconvert_exporter": "python",
   "pygments_lexer": "ipython3",
   "version": "3.9.7"
  }
 },
 "nbformat": 4,
 "nbformat_minor": 2
}
